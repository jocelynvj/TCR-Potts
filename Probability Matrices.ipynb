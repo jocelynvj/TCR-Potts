{
 "cells": [
  {
   "cell_type": "code",
   "execution_count": 1,
   "id": "2a884f97",
   "metadata": {},
   "outputs": [],
   "source": [
    "%run \"Functions.ipynb\""
   ]
  },
  {
   "cell_type": "markdown",
   "id": "6c0f7bbb",
   "metadata": {},
   "source": [
    "## Making Probability Matrices"
   ]
  },
  {
   "cell_type": "code",
   "execution_count": 2,
   "id": "1d976173",
   "metadata": {},
   "outputs": [],
   "source": [
    "lalg_Dict = np.load('lalg_dict.npy', allow_pickle=True).item()\n",
    "ralg_Dict = np.load('ralg_dict.npy', allow_pickle=True).item()"
   ]
  },
  {
   "cell_type": "code",
   "execution_count": 3,
   "id": "e95ac7fd",
   "metadata": {},
   "outputs": [],
   "source": [
    "distance_thresholds = [1,3,5,7,10,12,15,19,23,27,31,35,39,100]\n",
    "lprob_Dict, rprob_Dict = make_probability_dict(variables = distance_thresholds, lDict =lalg_Dict,rDict=ralg_Dict,\n",
    "                                               epitope_names = ['YLQPRTFLL','GILGFVFTL'], var_name = 'Threshold',\n",
    "                                               default_pseudocount = 0.2)"
   ]
  },
  {
   "cell_type": "code",
   "execution_count": 4,
   "id": "214b7e21",
   "metadata": {},
   "outputs": [],
   "source": [
    "np.save('lprobs_dict.npy', lprob_Dict) \n",
    "np.save('rprobs_dict.npy', rprob_Dict) "
   ]
  },
  {
   "cell_type": "markdown",
   "id": "813b10e4",
   "metadata": {},
   "source": [
    "## Specificity Prediction"
   ]
  },
  {
   "cell_type": "code",
   "execution_count": 5,
   "id": "8a0d6db2",
   "metadata": {},
   "outputs": [
    {
     "name": "stdout",
     "output_type": "stream",
     "text": [
      "     Epitope  Old length              Glob lalg              Glob ralg  \\\n",
      "0  YLQPRTFLL          11  CASTDDIEAFF----------  ----------CASTDDIEAFF   \n",
      "1  YLQPRTFLL          14  CASSSVSLGNEQFF-------  -------CASSSVSLGNEQFF   \n",
      "2  GILGFVFTL          13  CASSLLQGTEAFF--------  --------CASSLLQGTEAFF   \n",
      "3  GILGFVFTL          15  CASSLNRGGSYEQYF------  ------CASSLNRGGSYEQYF   \n",
      "4  GILGFVFTL          13  CASSGRASTEAFF--------  --------CASSGRASTEAFF   \n",
      "5  GILGFVFTL          14  CASSIHGAGTEAFF-------  -------CASSIHGAGTEAFF   \n",
      "6  GILGFVFTL          14  CAWSPGTGAYGYTF-------  -------CAWSPGTGAYGYTF   \n",
      "\n",
      "   Glob alg length  \n",
      "0               21  \n",
      "1               21  \n",
      "2               21  \n",
      "3               21  \n",
      "4               21  \n",
      "5               21  \n",
      "6               21  \n",
      "Seq 0 (YLQPRTFLL): lalg = CASTDDIEAFF----------, ralg = ----------CASTDDIEAFF\n",
      "YLQ: (left) max prob = 9.05e-05 from Group 3 (31 seqs), \t(right) max prob = 9.05e-05 from Group 38 (31 seqs)\n",
      "GIL: (left) max prob = 3.68e-12 from Group 271 (3 seqs), \t(right) max prob = 3.68e-12 from Group 268 (3 seqs)\n",
      "(L) Predicted: YLQPRTFLL \t(R) Predicted: YLQPRTFLL\n",
      "\n",
      "Seq 1 (YLQPRTFLL): lalg = CASSSVSLGNEQFF-------, ralg = -------CASSSVSLGNEQFF\n",
      "YLQ: (left) max prob = 1.76e-16 from Group 30 (15 seqs), \t(right) max prob = 1.65e-15 from Group 109 (3 seqs)\n",
      "GIL: (left) max prob = 1.86e-11 from Group 95 (4 seqs), \t(right) max prob = 1.86e-11 from Group 185 (4 seqs)\n",
      "(L) Predicted: GILGFVFTL \t(R) Predicted: GILGFVFTL\n",
      "\n",
      "Seq 2 (GILGFVFTL): lalg = CASSLLQGTEAFF--------, ralg = --------CASSLLQGTEAFF\n",
      "YLQ: (left) max prob = 1.75e-12 from Group 73 (9 seqs), \t(right) max prob = 2.69e-12 from Group 106 (3 seqs)\n",
      "GIL: (left) max prob = 4.21e-09 from Group 322 (14 seqs), \t(right) max prob = 4.21e-09 from Group 316 (14 seqs)\n",
      "(L) Predicted: GILGFVFTL \t(R) Predicted: GILGFVFTL\n",
      "\n",
      "Seq 3 (GILGFVFTL): lalg = CASSLNRGGSYEQYF------, ralg = ------CASSLNRGGSYEQYF\n",
      "YLQ: (left) max prob = 1.13e-15 from Group 128 (3 seqs), \t(right) max prob = 1.13e-15 from Group 66 (3 seqs)\n",
      "GIL: (left) max prob = 1.11e-13 from Group 117 (6 seqs), \t(right) max prob = 1.11e-13 from Group 207 (6 seqs)\n",
      "(L) Predicted: GILGFVFTL \t(R) Predicted: GILGFVFTL\n",
      "\n",
      "Seq 4 (GILGFVFTL): lalg = CASSGRASTEAFF--------, ralg = --------CASSGRASTEAFF\n",
      "YLQ: (left) max prob = 2.23e-09 from Group 73 (9 seqs), \t(right) max prob = 2.23e-09 from Group 96 (9 seqs)\n",
      "GIL: (left) max prob = 8.61e-07 from Group 322 (14 seqs), \t(right) max prob = 8.61e-07 from Group 316 (14 seqs)\n",
      "(L) Predicted: GILGFVFTL \t(R) Predicted: GILGFVFTL\n",
      "\n",
      "Seq 5 (GILGFVFTL): lalg = CASSIHGAGTEAFF-------, ralg = -------CASSIHGAGTEAFF\n",
      "YLQ: (left) max prob = 1.06e-15 from Group 30 (15 seqs), \t(right) max prob = 1.06e-15 from Group 141 (15 seqs)\n",
      "GIL: (left) max prob = 1.16e-12 from Group 149 (4 seqs), \t(right) max prob = 1.16e-12 from Group 239 (4 seqs)\n",
      "(L) Predicted: GILGFVFTL \t(R) Predicted: GILGFVFTL\n",
      "\n",
      "Seq 6 (GILGFVFTL): lalg = CAWSPGTGAYGYTF-------, ralg = -------CAWSPGTGAYGYTF\n",
      "YLQ: (left) max prob = 1.46e-13 from Group 247 (2 seqs), \t(right) max prob = 1.46e-13 from Group 268 (2 seqs)\n",
      "GIL: (left) max prob = 1.81e-14 from Group 222 (3 seqs), \t(right) max prob = 1.81e-14 from Group 381 (3 seqs)\n",
      "(L) Predicted: YLQPRTFLL \t(R) Predicted: YLQPRTFLL\n",
      "\n",
      "L_acc = 0.7142857142857143, R_acc = 0.7142857142857143\n",
      "\n"
     ]
    },
    {
     "data": {
      "text/plain": [
       "([31, 15, 9, 3, 9, 15, 2],\n",
       " [31, 3, 3, 3, 9, 15, 2],\n",
       " [3, 4, 14, 6, 14, 4, 3],\n",
       " [3, 4, 14, 6, 14, 4, 3],\n",
       " 0.7142857142857143,\n",
       " 0.7142857142857143)"
      ]
     },
     "execution_count": 5,
     "metadata": {},
     "output_type": "execute_result"
    }
   ],
   "source": [
    "YLQ_GIL_test_alg = pd.read_csv('YLQ_GIL_test_alg.csv',sep=',',on_bad_lines='skip',header = 0)\n",
    "testing_samples = YLQ_GIL_test_alg.sample(7).reset_index(drop=True)\n",
    "print(testing_samples)\n",
    "\n",
    "classify(variable = 7, test_seqs = testing_samples, \n",
    "         lprobs = lprob_Dict, rprobs = rprob_Dict, \n",
    "         ep1_name = 'YLQPRTFLL',ep2_name ='GILGFVFTL',\n",
    "         var_name = 'Threshold',\n",
    "         default_pseudocount = 0.2, default_threshold = 7)"
   ]
  },
  {
   "cell_type": "code",
   "execution_count": 6,
   "id": "caa762c9",
   "metadata": {},
   "outputs": [
    {
     "data": {
      "text/plain": [
       "640"
      ]
     },
     "execution_count": 6,
     "metadata": {},
     "output_type": "execute_result"
    }
   ],
   "source": [
    "import sys\n",
    "sys.getsizeof(rprob_Dict)"
   ]
  }
 ],
 "metadata": {
  "kernelspec": {
   "display_name": "Python 3 (ipykernel)",
   "language": "python",
   "name": "python3"
  },
  "language_info": {
   "codemirror_mode": {
    "name": "ipython",
    "version": 3
   },
   "file_extension": ".py",
   "mimetype": "text/x-python",
   "name": "python",
   "nbconvert_exporter": "python",
   "pygments_lexer": "ipython3",
   "version": "3.9.13"
  }
 },
 "nbformat": 4,
 "nbformat_minor": 5
}
